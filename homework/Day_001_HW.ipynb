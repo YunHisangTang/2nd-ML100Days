{
 "cells": [
  {
   "cell_type": "markdown",
   "metadata": {},
   "source": [
    "## 申論題\n",
    "\n",
    "### 作業1：\n",
    "\n",
    "請上 Kaggle, 在 Competitions 或 Dataset 中找一組競賽或資料並寫下：\n",
    "\n",
    "1. 你選的這組資料為何重要\n",
    "\n",
    "2. 資料從何而來 (tips: 譬如提供者是誰、以什麼方式蒐集)\n",
    "\n",
    "3. 蒐集而來的資料型態為何\n",
    "\n",
    "4. 這組資料想解決的問題如何評估"
   ]
  },
  {
   "attachments": {},
   "cell_type": "markdown",
   "metadata": {},
   "source": [
    "Kaggle競賽:\n",
    "\n",
    "House Prices: Advanced Regression Techniques\n",
    "\n",
    "https://www.kaggle.com/c/house-prices-advanced-regression-techniques/overview\n",
    "\n",
    "1. 這組資料包含愛荷華州艾姆斯的房價，有79個變量描述每個房子的型態。\n",
    "(可以用來提供當地居民、經銷商了解自身房子的受喜好的程度和品質區間在哪裡，以作為賣或出租房子的價格參考。)\n",
    "\n",
    "2. 提供者: Dean De Cock, Truman State University, Journal of Statistics Education Volume 19, Number 3(2011), www.amstat.org/publications/jse/v19n3/decock.pdf 。從還是研究生的時候便開始收集，猜測應該大部分由網路所收集。\n",
    "\n",
    "3. \n",
    "(sample_submission.csv 只有Id 和 SalePrice)\n",
    "(test.csv、train.csv 則包含Id和79個變量)\n",
    "![](https://i.imgur.com/zHqsk0y.png)\n",
    "\n",
    "\n",
    "4. 先挑選與房價相對有高關係的變量，並使用迴歸MSE去評估。"
   ]
  },
  {
   "cell_type": "markdown",
   "metadata": {},
   "source": [
    "### 作業2：\n",
    "\n",
    "想像你經營一個自由載客車隊，你希望能透過數據分析以提升業績，請你思考並描述你如何規劃整體的分析/解決方案：\n",
    "\n",
    "1. 核心問題為何 (tips：如何定義 「提升業績 & 你的假設」)\n",
    "\n",
    "提升業績 => 在上班一天工作的有限時間內，要能讓我的車隊，每位司機的載客量提升，減少路線上不必要的繞道(最短路徑達成任務)和找尋客人。\n",
    "\n",
    "2. 資料從何而來 (tips：哪些資料可能會對你想問的問題產生影響 & 資料如何蒐集)\n",
    "\n",
    "首先，最好像UBER有自己的載客平台，能以APP線上收集每個顧客的年齡、性別、每趟旅程的路線、搭乘時間、使用者的常用位置(住家、學校、公司)等，否則就需要每位司機在接送完客人時，自己手動紀錄，然後每天做回報。另外，我覺得可以找出大都會上下班塞車高峰(特別是上班)的某些區段多加留意，以及當日天氣(是否下雨?)\n",
    "\n",
    "3. 蒐集而來的資料型態為何\n",
    "\n",
    "結構化的資料:表格 (年齡、性別、每趟旅程的路線(GPS的經緯度)、搭乘時間、使用者的常用位置(住家、學校、公司)、上下班塞車高峰區段、當日天氣(是否下雨?))\n",
    "\n",
    "4. 你要回答的問題，其如何評估 (tips：你的假設如何驗證)\n",
    "\n",
    "先挑選與載客量相對有高關係的變量，並使用迴歸MSE去評估。\n"
   ]
  },
  {
   "cell_type": "markdown",
   "metadata": {},
   "source": [
    "### 作業3：\n",
    "\n",
    "請點選下方檢視範例依照 Day_001_example_of_metrics.ipynb 完成 Mean Squared Error 的函式\n",
    "\n",
    "資料夾結構建立規則提醒：2nd-ML100Days > data資料夾 & homework資料夾 (ipynb檔) \n",
    "\n",
    "(請注意data的存放位置，建議放在*.ipynb 同一個目錄下，這樣才能在不修改code的情況下正常執行)\n",
    "\n",
    "## 練習時間\n",
    "#### 請寫一個函式用來計算 Mean Square Error\n",
    "$ MSE = \\frac{1}{n}\\sum_{i=1}^{n}{(Y_i - \\hat{Y}_i)^2} $\n",
    "\n",
    "### Hint: [如何取平方](https://googoodesign.gitbooks.io/-ezpython/unit-1.html)"
   ]
  },
  {
   "cell_type": "code",
   "execution_count": 10,
   "metadata": {},
   "outputs": [],
   "source": [
    "import numpy as np\n",
    "import matplotlib.pyplot as plt"
   ]
  },
  {
   "cell_type": "code",
   "execution_count": 11,
   "metadata": {},
   "outputs": [],
   "source": [
    "def mean_squared_error(y,y_hat):\n",
    "    \"\"\"\n",
    "    請完成這個 Function 後往下執行\n",
    "    \n",
    "    計算 MSE\n",
    "    Args:\n",
    "        - y: 實際值\n",
    "        - y_hat: 預測值\n",
    "    Return:\n",
    "        - mse: MSE\n",
    "    \"\"\"\n",
    "    #print((y-y_hat)**2)\n",
    "    mse = sum((y-y_hat)**2) / len(y)\n",
    "    return mse\n",
    "\n",
    "def mean_absolute_error(y,y_hat):\n",
    "    \"\"\"\n",
    "    計算 MAE\n",
    "    Args:\n",
    "        - y: 實際值\n",
    "        - y_hat: 預測值\n",
    "    Return:\n",
    "        - mae: MAE\n",
    "    \"\"\"\n",
    "    mae = sum(abs(y - y_hat)) / len(y)\n",
    "    return mae"
   ]
  },
  {
   "cell_type": "code",
   "execution_count": 12,
   "metadata": {},
   "outputs": [
    {
     "data": {
      "image/png": "[encoded data removed]",
      "text/plain": [
       "<Figure size 432x288 with 1 Axes>"
      ]
     },
     "metadata": {
      "needs_background": "light"
     },
     "output_type": "display_data"
    }
   ],
   "source": [
    "w = 3\n",
    "b = 0.5\n",
    "\n",
    "x_lin = np.linspace(0, 100, 101)\n",
    "# print(type(x_lin))\n",
    "y = (x_lin + np.random.randn(101) * 5) * w + b\n",
    "# print(len(np.random.randn(101)))\n",
    "# print(type(y))\n",
    "plt.plot(x_lin, y, 'b.', label = 'data points')\n",
    "plt.title(\"Assume we have data points\")\n",
    "plt.legend(loc = 2)\n",
    "plt.show()"
   ]
  },
  {
   "cell_type": "code",
   "execution_count": 13,
   "metadata": {},
   "outputs": [
    {
     "data": {
      "image/png": "[encoded data removed]",
      "text/plain": [
       "<Figure size 432x288 with 1 Axes>"
      ]
     },
     "metadata": {
      "needs_background": "light"
     },
     "output_type": "display_data"
    }
   ],
   "source": [
    "y_hat = x_lin * w + b\n",
    "plt.plot(x_lin, y, 'b.', label = 'data')\n",
    "plt.plot(x_lin, y_hat, 'r-', label = 'prediction')\n",
    "plt.title(\"Assume we have data points (And the prediction)\")\n",
    "plt.legend(loc = 2)\n",
    "plt.show()"
   ]
  },
  {
   "cell_type": "code",
   "execution_count": 14,
   "metadata": {},
   "outputs": [
    {
     "name": "stdout",
     "output_type": "stream",
     "text": [
      "The Mean squared error is 259.259\n",
      "The Mean absolute error is 13.141\n"
     ]
    }
   ],
   "source": [
    "# 執行 Function, 確認有沒有正常執行\n",
    "MSE = mean_squared_error(y, y_hat)\n",
    "MAE = mean_absolute_error(y, y_hat)\n",
    "print(\"The Mean squared error is %.3f\" % (MSE))\n",
    "print(\"The Mean absolute error is %.3f\" % (MAE))"
   ]
  },
  {
   "cell_type": "code",
   "execution_count": 15,
   "metadata": {},
   "outputs": [
    {
     "name": "stdout",
     "output_type": "stream",
     "text": [
      "3.5\n"
     ]
    }
   ],
   "source": [
    "# test mse\n",
    "o = np.array([1,2,3,4])\n",
    "o1 = np.array([1,1,1,1])\n",
    "print(sum((o-o1)**2)/len(o))"
   ]
  },
  {
   "cell_type": "markdown",
   "metadata": {},
   "source": [
    "## 額外閱讀\n",
    "1. 機器/深度學習: 基礎介紹-損失函數(loss function)\n",
    "\n",
    "https://medium.com/@chih.sheng.huang821/%E6%A9%9F%E5%99%A8-%E6%B7%B1%E5%BA%A6%E5%AD%B8%E7%BF%92-%E5%9F%BA%E7%A4%8E%E4%BB%8B%E7%B4%B9-%E6%90%8D%E5%A4%B1%E5%87%BD%E6%95%B8-loss-function-2dcac5ebb6cb\n",
    "\n",
    "2. 比較 Cross Entropy 與 Mean Squared Error\n",
    "\n",
    "https://medium.com/%E9%BB%83%E6%8C%AF%E5%93%B2-william/%E6%AF%94%E8%BC%83-cross-entropy-%E8%88%87-mean-squared-error-8bebc0255f5\n",
    "\n",
    "3. 关于交叉熵在loss函数中使用的理解\n",
    "\n",
    "https://blog.csdn.net/tsyccnh/article/details/79163834"
   ]
  }
 ],
 "metadata": {
  "anaconda-cloud": {},
  "kernelspec": {
   "display_name": "Python 3",
   "language": "python",
   "name": "python3"
  },
  "language_info": {
   "codemirror_mode": {
    "name": "ipython",
    "version": 3
   },
   "file_extension": ".py",
   "mimetype": "text/x-python",
   "name": "python",
   "nbconvert_exporter": "python",
   "pygments_lexer": "ipython3",
   "version": "3.7.1"
  }
 },
 "nbformat": 4,
 "nbformat_minor": 1
}
